{
  "nbformat": 4,
  "nbformat_minor": 0,
  "metadata": {
    "colab": {
      "provenance": [],
      "authorship_tag": "ABX9TyOja7wlMgedZxRuZwh1dw5U",
      "include_colab_link": true
    },
    "kernelspec": {
      "name": "python3",
      "display_name": "Python 3"
    },
    "language_info": {
      "name": "python"
    },
    "widgets": {
      "application/vnd.jupyter.widget-state+json": {
        "f190ec2d6e6547e58197be587bff47c8": {
          "model_module": "@jupyter-widgets/controls",
          "model_name": "VBoxModel",
          "model_module_version": "1.5.0",
          "state": {
            "_dom_classes": [],
            "_model_module": "@jupyter-widgets/controls",
            "_model_module_version": "1.5.0",
            "_model_name": "VBoxModel",
            "_view_count": null,
            "_view_module": "@jupyter-widgets/controls",
            "_view_module_version": "1.5.0",
            "_view_name": "VBoxView",
            "box_style": "",
            "children": [
              "IPY_MODEL_71e110813ff34debbf6041390bc84137"
            ],
            "layout": "IPY_MODEL_1dc4b32f70f744aea383d0aff72036b4"
          }
        },
        "71e110813ff34debbf6041390bc84137": {
          "model_module": "@jupyter-widgets/controls",
          "model_name": "HBoxModel",
          "model_module_version": "1.5.0",
          "state": {
            "_dom_classes": [],
            "_model_module": "@jupyter-widgets/controls",
            "_model_module_version": "1.5.0",
            "_model_name": "HBoxModel",
            "_view_count": null,
            "_view_module": "@jupyter-widgets/controls",
            "_view_module_version": "1.5.0",
            "_view_name": "HBoxView",
            "box_style": "",
            "children": [
              "IPY_MODEL_a2d79564c68340eda26dd97a8eb6137f",
              "IPY_MODEL_fe5f2926d7534c01bfa573dcf0c310b1"
            ],
            "layout": "IPY_MODEL_4a93aa340eb4413d9f103ead7ba4491c"
          }
        },
        "1dc4b32f70f744aea383d0aff72036b4": {
          "model_module": "@jupyter-widgets/base",
          "model_name": "LayoutModel",
          "model_module_version": "1.2.0",
          "state": {
            "_model_module": "@jupyter-widgets/base",
            "_model_module_version": "1.2.0",
            "_model_name": "LayoutModel",
            "_view_count": null,
            "_view_module": "@jupyter-widgets/base",
            "_view_module_version": "1.2.0",
            "_view_name": "LayoutView",
            "align_content": null,
            "align_items": null,
            "align_self": null,
            "border": null,
            "bottom": null,
            "display": null,
            "flex": null,
            "flex_flow": null,
            "grid_area": null,
            "grid_auto_columns": null,
            "grid_auto_flow": null,
            "grid_auto_rows": null,
            "grid_column": null,
            "grid_gap": null,
            "grid_row": null,
            "grid_template_areas": null,
            "grid_template_columns": null,
            "grid_template_rows": null,
            "height": null,
            "justify_content": null,
            "justify_items": null,
            "left": null,
            "margin": null,
            "max_height": null,
            "max_width": null,
            "min_height": null,
            "min_width": null,
            "object_fit": null,
            "object_position": null,
            "order": null,
            "overflow": null,
            "overflow_x": null,
            "overflow_y": null,
            "padding": null,
            "right": null,
            "top": null,
            "visibility": null,
            "width": null
          }
        },
        "a2d79564c68340eda26dd97a8eb6137f": {
          "model_module": "@jupyter-widgets/controls",
          "model_name": "IntProgressModel",
          "model_module_version": "1.5.0",
          "state": {
            "_dom_classes": [],
            "_model_module": "@jupyter-widgets/controls",
            "_model_module_version": "1.5.0",
            "_model_name": "IntProgressModel",
            "_view_count": null,
            "_view_module": "@jupyter-widgets/controls",
            "_view_module_version": "1.5.0",
            "_view_name": "ProgressView",
            "bar_style": "success",
            "description": "100.00%",
            "description_tooltip": null,
            "layout": "IPY_MODEL_a0fa469f434a4b658f8e2ac367d4b5e7",
            "max": 35747,
            "min": 0,
            "orientation": "horizontal",
            "style": "IPY_MODEL_69862ea526c0494f9d6415e1c67207a3",
            "value": 35747
          }
        },
        "fe5f2926d7534c01bfa573dcf0c310b1": {
          "model_module": "@jupyter-widgets/controls",
          "model_name": "LabelModel",
          "model_module_version": "1.5.0",
          "state": {
            "_dom_classes": [],
            "_model_module": "@jupyter-widgets/controls",
            "_model_module_version": "1.5.0",
            "_model_name": "LabelModel",
            "_view_count": null,
            "_view_module": "@jupyter-widgets/controls",
            "_view_module_version": "1.5.0",
            "_view_name": "LabelView",
            "description": "",
            "description_tooltip": null,
            "layout": "IPY_MODEL_0a0d590636d14e89932e5999abac6b5a",
            "placeholder": "​",
            "style": "IPY_MODEL_9f2cc1c360584c71a6395c550b4aada9",
            "value": "35747 / 35747"
          }
        },
        "4a93aa340eb4413d9f103ead7ba4491c": {
          "model_module": "@jupyter-widgets/base",
          "model_name": "LayoutModel",
          "model_module_version": "1.2.0",
          "state": {
            "_model_module": "@jupyter-widgets/base",
            "_model_module_version": "1.2.0",
            "_model_name": "LayoutModel",
            "_view_count": null,
            "_view_module": "@jupyter-widgets/base",
            "_view_module_version": "1.2.0",
            "_view_name": "LayoutView",
            "align_content": null,
            "align_items": null,
            "align_self": null,
            "border": null,
            "bottom": null,
            "display": null,
            "flex": null,
            "flex_flow": null,
            "grid_area": null,
            "grid_auto_columns": null,
            "grid_auto_flow": null,
            "grid_auto_rows": null,
            "grid_column": null,
            "grid_gap": null,
            "grid_row": null,
            "grid_template_areas": null,
            "grid_template_columns": null,
            "grid_template_rows": null,
            "height": null,
            "justify_content": null,
            "justify_items": null,
            "left": null,
            "margin": null,
            "max_height": null,
            "max_width": null,
            "min_height": null,
            "min_width": null,
            "object_fit": null,
            "object_position": null,
            "order": null,
            "overflow": null,
            "overflow_x": null,
            "overflow_y": null,
            "padding": null,
            "right": null,
            "top": null,
            "visibility": null,
            "width": null
          }
        },
        "a0fa469f434a4b658f8e2ac367d4b5e7": {
          "model_module": "@jupyter-widgets/base",
          "model_name": "LayoutModel",
          "model_module_version": "1.2.0",
          "state": {
            "_model_module": "@jupyter-widgets/base",
            "_model_module_version": "1.2.0",
            "_model_name": "LayoutModel",
            "_view_count": null,
            "_view_module": "@jupyter-widgets/base",
            "_view_module_version": "1.2.0",
            "_view_name": "LayoutView",
            "align_content": null,
            "align_items": null,
            "align_self": null,
            "border": null,
            "bottom": null,
            "display": null,
            "flex": null,
            "flex_flow": null,
            "grid_area": null,
            "grid_auto_columns": null,
            "grid_auto_flow": null,
            "grid_auto_rows": null,
            "grid_column": null,
            "grid_gap": null,
            "grid_row": null,
            "grid_template_areas": null,
            "grid_template_columns": null,
            "grid_template_rows": null,
            "height": null,
            "justify_content": null,
            "justify_items": null,
            "left": null,
            "margin": null,
            "max_height": null,
            "max_width": null,
            "min_height": null,
            "min_width": null,
            "object_fit": null,
            "object_position": null,
            "order": null,
            "overflow": null,
            "overflow_x": null,
            "overflow_y": null,
            "padding": null,
            "right": null,
            "top": null,
            "visibility": null,
            "width": null
          }
        },
        "69862ea526c0494f9d6415e1c67207a3": {
          "model_module": "@jupyter-widgets/controls",
          "model_name": "ProgressStyleModel",
          "model_module_version": "1.5.0",
          "state": {
            "_model_module": "@jupyter-widgets/controls",
            "_model_module_version": "1.5.0",
            "_model_name": "ProgressStyleModel",
            "_view_count": null,
            "_view_module": "@jupyter-widgets/base",
            "_view_module_version": "1.2.0",
            "_view_name": "StyleView",
            "bar_color": null,
            "description_width": ""
          }
        },
        "0a0d590636d14e89932e5999abac6b5a": {
          "model_module": "@jupyter-widgets/base",
          "model_name": "LayoutModel",
          "model_module_version": "1.2.0",
          "state": {
            "_model_module": "@jupyter-widgets/base",
            "_model_module_version": "1.2.0",
            "_model_name": "LayoutModel",
            "_view_count": null,
            "_view_module": "@jupyter-widgets/base",
            "_view_module_version": "1.2.0",
            "_view_name": "LayoutView",
            "align_content": null,
            "align_items": null,
            "align_self": null,
            "border": null,
            "bottom": null,
            "display": null,
            "flex": null,
            "flex_flow": null,
            "grid_area": null,
            "grid_auto_columns": null,
            "grid_auto_flow": null,
            "grid_auto_rows": null,
            "grid_column": null,
            "grid_gap": null,
            "grid_row": null,
            "grid_template_areas": null,
            "grid_template_columns": null,
            "grid_template_rows": null,
            "height": null,
            "justify_content": null,
            "justify_items": null,
            "left": null,
            "margin": null,
            "max_height": null,
            "max_width": null,
            "min_height": null,
            "min_width": null,
            "object_fit": null,
            "object_position": null,
            "order": null,
            "overflow": null,
            "overflow_x": null,
            "overflow_y": null,
            "padding": null,
            "right": null,
            "top": null,
            "visibility": null,
            "width": null
          }
        },
        "9f2cc1c360584c71a6395c550b4aada9": {
          "model_module": "@jupyter-widgets/controls",
          "model_name": "DescriptionStyleModel",
          "model_module_version": "1.5.0",
          "state": {
            "_model_module": "@jupyter-widgets/controls",
            "_model_module_version": "1.5.0",
            "_model_name": "DescriptionStyleModel",
            "_view_count": null,
            "_view_module": "@jupyter-widgets/base",
            "_view_module_version": "1.2.0",
            "_view_name": "StyleView",
            "description_width": ""
          }
        }
      }
    }
  },
  "cells": [
    {
      "cell_type": "markdown",
      "metadata": {
        "id": "view-in-github",
        "colab_type": "text"
      },
      "source": [
        "<a href=\"https://colab.research.google.com/github/carlibeisel/irrigation_efficiency_change/blob/main/pivot_irrigation.ipynb\" target=\"_parent\"><img src=\"https://colab.research.google.com/assets/colab-badge.svg\" alt=\"Open In Colab\"/></a>"
      ]
    },
    {
      "cell_type": "markdown",
      "source": [
        "##Identifying Pivot Irrigated Land\n",
        "\n",
        "By: Carli Beisel\n",
        "\n",
        "Adapted from David Ketchum (Github: dgketchum)\n",
        "\n",
        "Created on May 13, 2024\n",
        "\n",
        "Modified on  May 17, 2024\n",
        "\n",
        "----------------------------------------------------\n",
        "**Purpose:**\n",
        "\n",
        "1) Finds pivot irrigated areas in irrigation shapefile. This code assumes that circles/arcs in the landscape represent pivot irrigation. This script finds arcs in polygon geometries of the shapefile, and writes a new attribute called \"pivot\". This Script is directly from David Ketchum.\n",
        "\n",
        "2) Sums area of pivot irrigation for each shapefile and combines into one dataframe. The created dataframe that has two columns: year and total acres of pivot irrigation.\n",
        "\n",
        "3) Generates a regression plot of irrigation change over time with the genderated dataframe."
      ],
      "metadata": {
        "id": "m2ANkc7oneHd"
      }
    },
    {
      "cell_type": "markdown",
      "source": [
        "## 1. Finds pivot irrigated areas in irrigation shapefile. This code assumes that circles/arcs in the landscape represent pivot irrigation. This script finds arcs in polygon geometries of the shapefile, and writes a new attribute called \"pivot\".\n",
        "\n",
        "This script is directly from David Ketchum.\n"
      ],
      "metadata": {
        "id": "mtsT8WwdTC09"
      }
    },
    {
      "cell_type": "code",
      "source": [
        "#import libraries\n",
        "import numpy as np\n",
        "import pandas as pd\n",
        "import geopandas as gpd\n",
        "! pip install pandarallel\n",
        "from pandarallel import pandarallel\n",
        "\n",
        "#connect to google drive\n",
        "from google.colab import drive\n",
        "drive.mount('/content/drive')"
      ],
      "metadata": {
        "colab": {
          "base_uri": "https://localhost:8080/"
        },
        "id": "hXCW2noTnoCR",
        "outputId": "b7a21474-1d7e-4980-c1ef-27cf4f10a586"
      },
      "execution_count": 4,
      "outputs": [
        {
          "output_type": "stream",
          "name": "stdout",
          "text": [
            "Collecting pandarallel\n",
            "  Downloading pandarallel-1.6.5.tar.gz (14 kB)\n",
            "  Preparing metadata (setup.py) ... \u001b[?25l\u001b[?25hdone\n",
            "Collecting dill>=0.3.1 (from pandarallel)\n",
            "  Downloading dill-0.3.8-py3-none-any.whl (116 kB)\n",
            "\u001b[2K     \u001b[90m━━━━━━━━━━━━━━━━━━━━━━━━━━━━━━━━━━━━━━━━\u001b[0m \u001b[32m116.3/116.3 kB\u001b[0m \u001b[31m3.4 MB/s\u001b[0m eta \u001b[36m0:00:00\u001b[0m\n",
            "\u001b[?25hRequirement already satisfied: pandas>=1 in /usr/local/lib/python3.10/dist-packages (from pandarallel) (2.0.3)\n",
            "Requirement already satisfied: psutil in /usr/local/lib/python3.10/dist-packages (from pandarallel) (5.9.5)\n",
            "Requirement already satisfied: python-dateutil>=2.8.2 in /usr/local/lib/python3.10/dist-packages (from pandas>=1->pandarallel) (2.8.2)\n",
            "Requirement already satisfied: pytz>=2020.1 in /usr/local/lib/python3.10/dist-packages (from pandas>=1->pandarallel) (2023.4)\n",
            "Requirement already satisfied: tzdata>=2022.1 in /usr/local/lib/python3.10/dist-packages (from pandas>=1->pandarallel) (2024.1)\n",
            "Requirement already satisfied: numpy>=1.21.0 in /usr/local/lib/python3.10/dist-packages (from pandas>=1->pandarallel) (1.25.2)\n",
            "Requirement already satisfied: six>=1.5 in /usr/local/lib/python3.10/dist-packages (from python-dateutil>=2.8.2->pandas>=1->pandarallel) (1.16.0)\n",
            "Building wheels for collected packages: pandarallel\n",
            "  Building wheel for pandarallel (setup.py) ... \u001b[?25l\u001b[?25hdone\n",
            "  Created wheel for pandarallel: filename=pandarallel-1.6.5-py3-none-any.whl size=16673 sha256=45fdb6ee807fdc68e09c898b6e7f0aaff947bd19522c2634fa3127753b6e0fd4\n",
            "  Stored in directory: /root/.cache/pip/wheels/50/4f/1e/34e057bb868842209f1623f195b74fd7eda229308a7352d47f\n",
            "Successfully built pandarallel\n",
            "Installing collected packages: dill, pandarallel\n",
            "Successfully installed dill-0.3.8 pandarallel-1.6.5\n",
            "Drive already mounted at /content/drive; to attempt to forcibly remount, call drive.mount(\"/content/drive\", force_remount=True).\n"
          ]
        }
      ]
    },
    {
      "cell_type": "code",
      "source": [
        "min_arc = 10\n",
        "tol = 0.22"
      ],
      "metadata": {
        "id": "77r7hvcnnpy6"
      },
      "execution_count": 7,
      "outputs": []
    },
    {
      "cell_type": "code",
      "source": [
        "def area_flood_irrigation(shp):\n",
        "    df = gpd.read_file(shp)\n",
        "    p = df[df['IType'] == 'P']['geometry']\n",
        "    p = np.sum([g.area for g in p])\n",
        "    s = df[df['IType'] == 'S']['geometry']\n",
        "    s = np.sum([g.area for g in s])\n",
        "    f = df[df['IType'] == 'F']['geometry']\n",
        "    f = np.sum([g.area for g in f])\n",
        "    t = p + s + f\n",
        "    print('pivot: {:.3f} sqkm, {:.3f}'.format(p / 1e6, p / t))\n",
        "    print('sprinkler: {:.3f} sqkm, {:.3f}'.format(s / 1e6, s / t))\n",
        "    print('flood: {:.3f} sqkm, {:.3f}'.format(f / 1e6, f / t))"
      ],
      "metadata": {
        "id": "wVrPdjU3ntNw"
      },
      "execution_count": 8,
      "outputs": []
    },
    {
      "cell_type": "code",
      "source": [
        "# Calculates the bearing between two points given their coordinates.\n",
        "def bearing(a, b):\n",
        "    lat1 = np.radians(a[0])\n",
        "    lat2 = np.radians(b[0])\n",
        "\n",
        "    diffLong = np.radians(b[1] - a[1])\n",
        "\n",
        "    x = np.sin(diffLong) * np.cos(lat2)\n",
        "    y = np.cos(lat1) * np.sin(lat2) - (np.sin(lat1)\n",
        "                                       * np.cos(lat2) * np.cos(diffLong))\n",
        "\n",
        "    return np.arctan2(x, y)"
      ],
      "metadata": {
        "id": "5odDJX04n2fe"
      },
      "execution_count": 9,
      "outputs": []
    },
    {
      "cell_type": "code",
      "source": [
        "# Identify arcs within a geometry by checking the bearing between consecutive\n",
        "# vertices. If the bearing difference falls below a certain tolerance for a\n",
        "# specified number of consecutive vertices (min_arc), it returns True,\n",
        "# indicating the presence of an arc.\n",
        "\n",
        "def find_arcs(g):\n",
        "    verts = g.exterior.coords\n",
        "    arc_ct, b_prev = 0, np.pi\n",
        "    for i, v in enumerate(verts):\n",
        "        try:\n",
        "            next = verts[i + 1]\n",
        "        except IndexError:\n",
        "            break\n",
        "        b = bearing(v, next)\n",
        "        diff = b - b_prev\n",
        "        if diff < tol:\n",
        "            arc_ct += 1\n",
        "            if arc_ct >= min_arc:\n",
        "                return True\n",
        "        else:\n",
        "            arc_ct = 0\n",
        "        b_prev = b\n",
        "\n",
        "    return False"
      ],
      "metadata": {
        "id": "LKh2LLqMn4p8"
      },
      "execution_count": 10,
      "outputs": []
    },
    {
      "cell_type": "code",
      "source": [
        "# Identify arcs within geometries in a shapefile. It utilizes the find_arcs\n",
        "# function and parallel processing using the Pandarallel library.\n",
        "\n",
        "def pivot_test(in_shp, out_shp):\n",
        "    pandarallel.initialize(use_memory_fs=False, progress_bar=True)\n",
        "\n",
        "    df = gpd.read_file(in_shp).explode()\n",
        "    df.index = range(df.shape[0])\n",
        "    print('{} features'.format(df.shape[0]))\n",
        "    df['arc'] = df.geometry.apply(lambda g: find_arcs(g))\n",
        "    df['arc'] = df.geometry.parallel_apply(find_arcs)\n",
        "    df.to_file(out_shp, crs='epsg:4326')\n",
        "    print('{} of {} features have an arc'.format(np.count_nonzero(df['arc']), df.shape[0]))"
      ],
      "metadata": {
        "id": "Nkn-fI05n6Vc"
      },
      "execution_count": 13,
      "outputs": []
    },
    {
      "cell_type": "code",
      "source": [
        "if __name__ == '__main__':\n",
        "    in_shp = '/content/drive/MyDrive/Data/irrigation_shapefiles/irrigated_land_only/2010_irrigated.shp'\n",
        "    out_shp = '/content/drive/MyDrive/Data/irrigation_shapefiles/pivot/2010_arcs.shp'\n",
        "    pivot_test(in_shp, out_shp)"
      ],
      "metadata": {
        "id": "VX6x5SIbnboa",
        "colab": {
          "base_uri": "https://localhost:8080/",
          "height": 337,
          "referenced_widgets": [
            "f190ec2d6e6547e58197be587bff47c8",
            "71e110813ff34debbf6041390bc84137",
            "1dc4b32f70f744aea383d0aff72036b4",
            "a2d79564c68340eda26dd97a8eb6137f",
            "fe5f2926d7534c01bfa573dcf0c310b1",
            "4a93aa340eb4413d9f103ead7ba4491c",
            "a0fa469f434a4b658f8e2ac367d4b5e7",
            "69862ea526c0494f9d6415e1c67207a3",
            "0a0d590636d14e89932e5999abac6b5a",
            "9f2cc1c360584c71a6395c550b4aada9"
          ]
        },
        "outputId": "afccbeb6-715f-4c09-b544-4a66023cf20d"
      },
      "execution_count": 17,
      "outputs": [
        {
          "output_type": "stream",
          "name": "stdout",
          "text": [
            "INFO: Pandarallel will run on 1 workers.\n",
            "INFO: Pandarallel will use standard multiprocessing data transfer (pipe) to transfer data between the main process and workers.\n"
          ]
        },
        {
          "output_type": "stream",
          "name": "stderr",
          "text": [
            "WARNING:fiona._env:organizePolygons() received an unexpected geometry.  Either a polygon with interior rings, or a polygon with less than 4 points, or a non-Polygon geometry.  Return arguments as a collection.\n",
            "WARNING:fiona._env:Geometry of polygon of fid 5541 cannot be translated to Simple Geometry. All polygons will be contained in a multipolygon.\n",
            "WARNING:fiona._env:organizePolygons() received an unexpected geometry.  Either a polygon with interior rings, or a polygon with less than 4 points, or a non-Polygon geometry.  Return arguments as a collection.\n",
            "WARNING:fiona._env:organizePolygons() received an unexpected geometry.  Either a polygon with interior rings, or a polygon with less than 4 points, or a non-Polygon geometry.  Return arguments as a collection.\n",
            "WARNING:fiona._env:Geometry of polygon of fid 5549 cannot be translated to Simple Geometry. All polygons will be contained in a multipolygon.\n",
            "WARNING:fiona._env:organizePolygons() received an unexpected geometry.  Either a polygon with interior rings, or a polygon with less than 4 points, or a non-Polygon geometry.  Return arguments as a collection.\n",
            "WARNING:fiona._env:organizePolygons() received an unexpected geometry.  Either a polygon with interior rings, or a polygon with less than 4 points, or a non-Polygon geometry.  Return arguments as a collection.\n",
            "WARNING:fiona._env:organizePolygons() received an unexpected geometry.  Either a polygon with interior rings, or a polygon with less than 4 points, or a non-Polygon geometry.  Return arguments as a collection.\n",
            "WARNING:fiona._env:organizePolygons() received an unexpected geometry.  Either a polygon with interior rings, or a polygon with less than 4 points, or a non-Polygon geometry.  Return arguments as a collection.\n",
            "<ipython-input-16-609e694fa8c4>:5: FutureWarning: Currently, index_parts defaults to True, but in the future, it will default to False to be consistent with Pandas. Use `index_parts=True` to keep the current behavior and True/False to silence the warning.\n",
            "  df = gpd.read_file(in_shp).explode()\n"
          ]
        },
        {
          "output_type": "stream",
          "name": "stdout",
          "text": [
            "35747 features\n"
          ]
        },
        {
          "output_type": "display_data",
          "data": {
            "text/plain": [
              "VBox(children=(HBox(children=(IntProgress(value=0, description='0.00%', max=35747), Label(value='0 / 35747')))…"
            ],
            "application/vnd.jupyter.widget-view+json": {
              "version_major": 2,
              "version_minor": 0,
              "model_id": "f190ec2d6e6547e58197be587bff47c8"
            }
          },
          "metadata": {}
        },
        {
          "output_type": "stream",
          "name": "stdout",
          "text": [
            "3865 of 35747 features have an arc\n"
          ]
        }
      ]
    },
    {
      "cell_type": "markdown",
      "source": [
        "## 2. Sums area of pivot irrigated land and total irrigated land for each shapefile and combines into one dataframe. The created dataframe that has three columns: 1) year, 2) total pivot irrigated acres, and 3) total acres irrigated."
      ],
      "metadata": {
        "id": "o7qYXg4yNzLn"
      }
    },
    {
      "cell_type": "code",
      "source": [
        "#import libraries\n",
        "!pip install geopandas shapely\n",
        "import geopandas as gpd\n",
        "import glob\n",
        "import pandas as pd\n",
        "import re\n",
        "from shapely.geometry import MultiPolygon #for shapefiles with holes or difficult shapes\n",
        "\n",
        "#connect to google drive\n",
        "from google.colab import drive\n",
        "drive.mount('/content/drive')"
      ],
      "metadata": {
        "colab": {
          "base_uri": "https://localhost:8080/"
        },
        "id": "VZuzPsgZQwIb",
        "outputId": "68af49b5-0670-4d47-91e4-0f453d073118"
      },
      "execution_count": 1,
      "outputs": [
        {
          "output_type": "stream",
          "name": "stdout",
          "text": [
            "Requirement already satisfied: geopandas in /usr/local/lib/python3.10/dist-packages (0.13.2)\n",
            "Requirement already satisfied: shapely in /usr/local/lib/python3.10/dist-packages (2.0.4)\n",
            "Requirement already satisfied: fiona>=1.8.19 in /usr/local/lib/python3.10/dist-packages (from geopandas) (1.9.6)\n",
            "Requirement already satisfied: packaging in /usr/local/lib/python3.10/dist-packages (from geopandas) (24.1)\n",
            "Requirement already satisfied: pandas>=1.1.0 in /usr/local/lib/python3.10/dist-packages (from geopandas) (2.0.3)\n",
            "Requirement already satisfied: pyproj>=3.0.1 in /usr/local/lib/python3.10/dist-packages (from geopandas) (3.6.1)\n",
            "Requirement already satisfied: numpy<3,>=1.14 in /usr/local/lib/python3.10/dist-packages (from shapely) (1.25.2)\n",
            "Requirement already satisfied: attrs>=19.2.0 in /usr/local/lib/python3.10/dist-packages (from fiona>=1.8.19->geopandas) (23.2.0)\n",
            "Requirement already satisfied: certifi in /usr/local/lib/python3.10/dist-packages (from fiona>=1.8.19->geopandas) (2024.6.2)\n",
            "Requirement already satisfied: click~=8.0 in /usr/local/lib/python3.10/dist-packages (from fiona>=1.8.19->geopandas) (8.1.7)\n",
            "Requirement already satisfied: click-plugins>=1.0 in /usr/local/lib/python3.10/dist-packages (from fiona>=1.8.19->geopandas) (1.1.1)\n",
            "Requirement already satisfied: cligj>=0.5 in /usr/local/lib/python3.10/dist-packages (from fiona>=1.8.19->geopandas) (0.7.2)\n",
            "Requirement already satisfied: six in /usr/local/lib/python3.10/dist-packages (from fiona>=1.8.19->geopandas) (1.16.0)\n",
            "Requirement already satisfied: python-dateutil>=2.8.2 in /usr/local/lib/python3.10/dist-packages (from pandas>=1.1.0->geopandas) (2.8.2)\n",
            "Requirement already satisfied: pytz>=2020.1 in /usr/local/lib/python3.10/dist-packages (from pandas>=1.1.0->geopandas) (2023.4)\n",
            "Requirement already satisfied: tzdata>=2022.1 in /usr/local/lib/python3.10/dist-packages (from pandas>=1.1.0->geopandas) (2024.1)\n",
            "Mounted at /content/drive\n"
          ]
        }
      ]
    },
    {
      "cell_type": "code",
      "source": [
        "# Load the total irrigated land shapefiles\n",
        "irrigated_fields = '/content/drive/MyDrive/Data/irrigation_shapefiles/irrigated_land_only/*.shp'\n",
        "shapefiles = glob.glob(irrigated_fields)\n",
        "\n",
        "# Define a function to extract the year from the filename\n",
        "def extract_year(filename):\n",
        "    match = re.search(r'(\\d{4})', filename)\n",
        "    return int(match.group(1)) if match else None\n",
        "\n",
        "# Iterate over each shapefile and read the \"Acres\" column\n",
        "irrigated_acres = []\n",
        "for shp in shapefiles:\n",
        "    year = extract_year(shp)\n",
        "    if year is None:\n",
        "        continue\n",
        "\n",
        "    gdf = gpd.read_file(shp)\n",
        "    total_area_acres = gdf['Acres'].sum()\n",
        "    irrigated_acres.append({'Year': year, 'Total Irrigated Acres': total_area_acres})\n",
        "\n",
        "# Create and sort the DataFrame by Year\n",
        "all = pd.DataFrame(irrigated_acres).sort_values(by='Year').reset_index(drop=True)\n",
        "\n",
        "print(all)"
      ],
      "metadata": {
        "colab": {
          "base_uri": "https://localhost:8080/"
        },
        "id": "BjZQ_kR7mmST",
        "outputId": "ba4fee15-3589-4078-851e-eb2636cd27b0"
      },
      "execution_count": 18,
      "outputs": [
        {
          "output_type": "stream",
          "name": "stderr",
          "text": [
            "WARNING:fiona._env:organizePolygons() received an unexpected geometry.  Either a polygon with interior rings, or a polygon with less than 4 points, or a non-Polygon geometry.  Return arguments as a collection.\n",
            "WARNING:fiona._env:Geometry of polygon of fid 5541 cannot be translated to Simple Geometry. All polygons will be contained in a multipolygon.\n",
            "WARNING:fiona._env:organizePolygons() received an unexpected geometry.  Either a polygon with interior rings, or a polygon with less than 4 points, or a non-Polygon geometry.  Return arguments as a collection.\n",
            "WARNING:fiona._env:organizePolygons() received an unexpected geometry.  Either a polygon with interior rings, or a polygon with less than 4 points, or a non-Polygon geometry.  Return arguments as a collection.\n",
            "WARNING:fiona._env:Geometry of polygon of fid 5549 cannot be translated to Simple Geometry. All polygons will be contained in a multipolygon.\n",
            "WARNING:fiona._env:organizePolygons() received an unexpected geometry.  Either a polygon with interior rings, or a polygon with less than 4 points, or a non-Polygon geometry.  Return arguments as a collection.\n",
            "WARNING:fiona._env:organizePolygons() received an unexpected geometry.  Either a polygon with interior rings, or a polygon with less than 4 points, or a non-Polygon geometry.  Return arguments as a collection.\n",
            "WARNING:fiona._env:organizePolygons() received an unexpected geometry.  Either a polygon with interior rings, or a polygon with less than 4 points, or a non-Polygon geometry.  Return arguments as a collection.\n",
            "WARNING:fiona._env:organizePolygons() received an unexpected geometry.  Either a polygon with interior rings, or a polygon with less than 4 points, or a non-Polygon geometry.  Return arguments as a collection.\n",
            "WARNING:fiona._env:organizePolygons() received an unexpected geometry.  Either a polygon with interior rings, or a polygon with less than 4 points, or a non-Polygon geometry.  Return arguments as a collection.\n",
            "WARNING:fiona._env:Geometry of polygon of fid 5674 cannot be translated to Simple Geometry. All polygons will be contained in a multipolygon.\n",
            "WARNING:fiona._env:organizePolygons() received an unexpected geometry.  Either a polygon with interior rings, or a polygon with less than 4 points, or a non-Polygon geometry.  Return arguments as a collection.\n",
            "WARNING:fiona._env:organizePolygons() received an unexpected geometry.  Either a polygon with interior rings, or a polygon with less than 4 points, or a non-Polygon geometry.  Return arguments as a collection.\n",
            "WARNING:fiona._env:Geometry of polygon of fid 5682 cannot be translated to Simple Geometry. All polygons will be contained in a multipolygon.\n",
            "WARNING:fiona._env:organizePolygons() received an unexpected geometry.  Either a polygon with interior rings, or a polygon with less than 4 points, or a non-Polygon geometry.  Return arguments as a collection.\n",
            "WARNING:fiona._env:organizePolygons() received an unexpected geometry.  Either a polygon with interior rings, or a polygon with less than 4 points, or a non-Polygon geometry.  Return arguments as a collection.\n",
            "WARNING:fiona._env:organizePolygons() received an unexpected geometry.  Either a polygon with interior rings, or a polygon with less than 4 points, or a non-Polygon geometry.  Return arguments as a collection.\n",
            "WARNING:fiona._env:organizePolygons() received an unexpected geometry.  Either a polygon with interior rings, or a polygon with less than 4 points, or a non-Polygon geometry.  Return arguments as a collection.\n",
            "WARNING:fiona._env:organizePolygons() received an unexpected geometry.  Either a polygon with interior rings, or a polygon with less than 4 points, or a non-Polygon geometry.  Return arguments as a collection.\n",
            "WARNING:fiona._env:Geometry of polygon of fid 8248 cannot be translated to Simple Geometry. All polygons will be contained in a multipolygon.\n",
            "WARNING:fiona._env:organizePolygons() received an unexpected geometry.  Either a polygon with interior rings, or a polygon with less than 4 points, or a non-Polygon geometry.  Return arguments as a collection.\n"
          ]
        },
        {
          "output_type": "stream",
          "name": "stdout",
          "text": [
            "   Year  Total Irrigated Acres\n",
            "0  1987          540858.321895\n",
            "1  1994          522431.344118\n",
            "2  2000          543269.737946\n",
            "3  2004          529101.803133\n",
            "4  2007          529273.357644\n",
            "5  2010          527579.091135\n",
            "6  2015          547752.179370\n"
          ]
        }
      ]
    },
    {
      "cell_type": "code",
      "source": [
        "# Load the pivot irrigation shapefiles\n",
        "pivot_files = '/content/drive/MyDrive/Data/irrigation_shapefiles/pivot/*.shp'\n",
        "shapefiles = glob.glob(pivot_files)\n",
        "\n",
        "# Define a function to extract the year from the filename\n",
        "def extract_year(filename):\n",
        "    match = re.search(r'(\\d{4})', filename)\n",
        "    return int(match.group(1)) if match else None\n",
        "\n",
        "# Iterate over each shapefile and read the \"Acres\" column\n",
        "pivot_acres = []\n",
        "for shp in shapefiles:\n",
        "    year = extract_year(shp)\n",
        "    if year is None:\n",
        "        continue\n",
        "\n",
        "    gdf = gpd.read_file(shp)\n",
        "    total_area_acres = gdf['Acres'].sum()\n",
        "    pivot_acres.append({'Year': year, 'Pivot Acres': total_area_acres})\n",
        "\n",
        "# Create and sort the DataFrame by Year\n",
        "pivot = pd.DataFrame(pivot_acres).sort_values(by='Year').reset_index(drop=True)\n",
        "\n",
        "print(pivot)"
      ],
      "metadata": {
        "colab": {
          "base_uri": "https://localhost:8080/"
        },
        "id": "2p02xXKOYJCP",
        "outputId": "6d4be8c7-7853-4710-b7e3-5a03fc76cfb2"
      },
      "execution_count": 19,
      "outputs": [
        {
          "output_type": "stream",
          "name": "stdout",
          "text": [
            "   Year    Pivot Acres\n",
            "0  1987  542038.132894\n",
            "1  1994  522468.959655\n",
            "2  2000  543309.197017\n",
            "3  2004  529166.048913\n",
            "4  2007  529346.985923\n",
            "5  2010  542431.941892\n",
            "6  2015  564898.317981\n"
          ]
        }
      ]
    },
    {
      "cell_type": "code",
      "source": [
        "#merge pivot and all irrigation style dataframes\n",
        "merged_data = pd.merge(all, pivot, on='Year', how='inner')\n",
        "print(merged_data)\n",
        "merged_data.to_csv('/content/drive/MyDrive/Data/irrigation_shapefiles/irrigation_change.csv', index=False)"
      ],
      "metadata": {
        "colab": {
          "base_uri": "https://localhost:8080/"
        },
        "id": "e9SjXVvY6BIj",
        "outputId": "8f32ce59-4e4e-4e06-9c2e-6a7e4accbd82"
      },
      "execution_count": null,
      "outputs": [
        {
          "output_type": "stream",
          "name": "stdout",
          "text": [
            "   Year  Total Irrigated Acres    Pivot Acres\n",
            "0  1987          540858.321895  542038.132894\n",
            "1  1994          522431.344118  522468.959655\n",
            "2  2000          543269.737946  543309.197017\n",
            "3  2004          529101.803133  529166.048913\n",
            "4  2007          529273.357644  529346.985923\n",
            "5  2010          527579.091135  542431.941892\n",
            "6  2015          547752.179370  564898.317981\n"
          ]
        }
      ]
    },
    {
      "cell_type": "markdown",
      "source": [
        "## 3. Generates a regression plot of irrigation change over time with the genderated dataframe."
      ],
      "metadata": {
        "id": "Pip5dMjETdwE"
      }
    },
    {
      "cell_type": "code",
      "source": [
        "import seaborn as sns\n",
        "import pandas as pd\n",
        "import matplotlib.pyplot as plt\n",
        "from sklearn.linear_model import LinearRegression\n",
        "\n",
        "#connect to google drive\n",
        "from google.colab import drive\n",
        "drive.mount('/content/drive')"
      ],
      "metadata": {
        "id": "rH5siYFMTdS_",
        "colab": {
          "base_uri": "https://localhost:8080/"
        },
        "outputId": "97689717-a5f5-47ae-ce94-cc1e39d0f9b7"
      },
      "execution_count": null,
      "outputs": [
        {
          "output_type": "stream",
          "name": "stdout",
          "text": [
            "Drive already mounted at /content/drive; to attempt to forcibly remount, call drive.mount(\"/content/drive\", force_remount=True).\n"
          ]
        }
      ]
    },
    {
      "cell_type": "code",
      "source": [
        "df = pd.read_csv('/content/drive/MyDrive/Data/irrigation_shapefiles/irrigation_change.csv')"
      ],
      "metadata": {
        "id": "qejUkPh0tdH6"
      },
      "execution_count": null,
      "outputs": []
    },
    {
      "cell_type": "code",
      "source": [
        "# Initialize and fit the linear regression model\n",
        "model = LinearRegression()\n",
        "X = df[['Year']]\n",
        "y = df['Proportion_Pivot']\n",
        "model.fit(X, y)\n",
        "\n",
        "# Predict values using the fitted model\n",
        "df['Predicted_Acres'] = model.predict(X)\n",
        "\n",
        "# Calculate the R² value\n",
        "r_squared = model.score(X, y)\n",
        "\n",
        "# Plot scatter plot and regression line\n",
        "plt.figure(figsize=(10, 6))\n",
        "sns.scatterplot(data=df, x='Year', y='Proportion_Pivot', marker='o', label='Actual Data')\n",
        "plt.plot(df['Year'], df['Predicted_Acres'], color='red', label='Regression Line')\n",
        "\n",
        "# Customize the plot\n",
        "plt.title('Total Area Pivot Irrigated each Year')\n",
        "plt.xlabel('Year')\n",
        "plt.ylabel('Area Pivot Irrigated (acres)')\n",
        "plt.grid(True)\n",
        "plt.legend()\n",
        "\n",
        "# Annotate the R² value on the plot\n",
        "plt.text(\n",
        "    0.05, 0.85, f'R²: {r_squared:.2f}',\n",
        "    transform=plt.gca().transAxes, fontsize=12, verticalalignment='top'\n",
        ")\n",
        "\n",
        "# Show the plot\n",
        "plt.show()"
      ],
      "metadata": {
        "colab": {
          "base_uri": "https://localhost:8080/",
          "height": 564
        },
        "id": "no-K64IzaUhR",
        "outputId": "e37b892e-4560-475a-93a7-79f594cad3b8"
      },
      "execution_count": null,
      "outputs": [
        {
          "output_type": "display_data",
          "data": {
            "text/plain": [
              "<Figure size 1000x600 with 1 Axes>"
            ],
            "image/png": "[encoded data removed]"
          },
          "metadata": {}
        }
      ]
    },
    {
      "cell_type": "code",
      "source": [
        "# Calculate proportion of pivot irrigated acres divided by total irrigated acres\n",
        "df['Proportion_Pivot'] = df['Pivot Acres'] / df['Total Irrigated Acres'] #old version\n",
        "print(df)"
      ],
      "metadata": {
        "colab": {
          "base_uri": "https://localhost:8080/"
        },
        "id": "8uCOXqop7885",
        "outputId": "b4a4f62c-c083-4261-a0b5-aa54b86dede9"
      },
      "execution_count": null,
      "outputs": [
        {
          "output_type": "stream",
          "name": "stdout",
          "text": [
            "   Year  Total Irrigated Acres    Pivot Acres  Proportion_Pivot\n",
            "0  1987          540858.321895  542038.132894          0.406932\n",
            "1  1994          522431.344118  522468.959655          0.392240\n",
            "2  2000          543269.737946  543309.197017          0.407886\n",
            "3  2004          529101.803133  529166.048913          0.397268\n",
            "4  2007          529273.357644  529346.985923          0.397404\n",
            "5  2010          527579.091135  542431.941892          0.407228\n",
            "6  2015          547752.179370  564898.317981          0.424094\n"
          ]
        }
      ]
    },
    {
      "cell_type": "code",
      "source": [
        "# Line graph with pivot proportion\n",
        "plt.figure(figsize=(10, 6))\n",
        "sns.scatterplot(data=df, x='Year', y='Proportion_Pivot', marker='o', label='Actual Data')\n",
        "plt.plot(df['Year'], df['Proportion_Pivot'], color='red', label='Regression Line')\n",
        "\n",
        "#Customize the legend\n",
        "plt.title('Proportion of Land Irrigated with Pivot')\n",
        "plt.xlabel('Year')\n",
        "plt.ylabel('Proportion of Land Irrigated with Pivot')\n",
        "plt.grid(True)\n",
        "plt.legend()"
      ],
      "metadata": {
        "colab": {
          "base_uri": "https://localhost:8080/",
          "height": 582
        },
        "id": "to0Ryylka8qa",
        "outputId": "dcec4a42-ddbb-4de3-adb2-02337121aec8"
      },
      "execution_count": null,
      "outputs": [
        {
          "output_type": "execute_result",
          "data": {
            "text/plain": [
              "<matplotlib.legend.Legend at 0x7f1053f46050>"
            ]
          },
          "metadata": {},
          "execution_count": 33
        },
        {
          "output_type": "display_data",
          "data": {
            "text/plain": [
              "<Figure size 1000x600 with 1 Axes>"
            ],
            "image/png": "[encoded data removed]"
          },
          "metadata": {}
        }
      ]
    }
  ]
}