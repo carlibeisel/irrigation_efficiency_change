{
  "nbformat": 4,
  "nbformat_minor": 0,
  "metadata": {
    "colab": {
      "provenance": [],
      "authorship_tag": "ABX9TyMDyLXrg5iV1kKAFNnMooOM",
      "include_colab_link": true
    },
    "kernelspec": {
      "name": "python3",
      "display_name": "Python 3"
    },
    "language_info": {
      "name": "python"
    },
    "widgets": {
      "application/vnd.jupyter.widget-state+json": {
        "8840f9cfb78f411abffcb25e02a76591": {
          "model_module": "@jupyter-widgets/controls",
          "model_name": "VBoxModel",
          "model_module_version": "1.5.0",
          "state": {
            "_dom_classes": [],
            "_model_module": "@jupyter-widgets/controls",
            "_model_module_version": "1.5.0",
            "_model_name": "VBoxModel",
            "_view_count": null,
            "_view_module": "@jupyter-widgets/controls",
            "_view_module_version": "1.5.0",
            "_view_name": "VBoxView",
            "box_style": "",
            "children": [
              "IPY_MODEL_406b0e499534415ab28cf073bd224068"
            ],
            "layout": "IPY_MODEL_f4e6236211814edf9efa71cbeb5aa69a"
          }
        },
        "406b0e499534415ab28cf073bd224068": {
          "model_module": "@jupyter-widgets/controls",
          "model_name": "HBoxModel",
          "model_module_version": "1.5.0",
          "state": {
            "_dom_classes": [],
            "_model_module": "@jupyter-widgets/controls",
            "_model_module_version": "1.5.0",
            "_model_name": "HBoxModel",
            "_view_count": null,
            "_view_module": "@jupyter-widgets/controls",
            "_view_module_version": "1.5.0",
            "_view_name": "HBoxView",
            "box_style": "",
            "children": [
              "IPY_MODEL_cf21c5bfd68e4fcf9b08c2ca3d942b5e",
              "IPY_MODEL_58c784e60e2748348ff7a460799f9dbd"
            ],
            "layout": "IPY_MODEL_96e2d99561dc4de08c1e69af450059ec"
          }
        },
        "f4e6236211814edf9efa71cbeb5aa69a": {
          "model_module": "@jupyter-widgets/base",
          "model_name": "LayoutModel",
          "model_module_version": "1.2.0",
          "state": {
            "_model_module": "@jupyter-widgets/base",
            "_model_module_version": "1.2.0",
            "_model_name": "LayoutModel",
            "_view_count": null,
            "_view_module": "@jupyter-widgets/base",
            "_view_module_version": "1.2.0",
            "_view_name": "LayoutView",
            "align_content": null,
            "align_items": null,
            "align_self": null,
            "border": null,
            "bottom": null,
            "display": null,
            "flex": null,
            "flex_flow": null,
            "grid_area": null,
            "grid_auto_columns": null,
            "grid_auto_flow": null,
            "grid_auto_rows": null,
            "grid_column": null,
            "grid_gap": null,
            "grid_row": null,
            "grid_template_areas": null,
            "grid_template_columns": null,
            "grid_template_rows": null,
            "height": null,
            "justify_content": null,
            "justify_items": null,
            "left": null,
            "margin": null,
            "max_height": null,
            "max_width": null,
            "min_height": null,
            "min_width": null,
            "object_fit": null,
            "object_position": null,
            "order": null,
            "overflow": null,
            "overflow_x": null,
            "overflow_y": null,
            "padding": null,
            "right": null,
            "top": null,
            "visibility": null,
            "width": null
          }
        },
        "cf21c5bfd68e4fcf9b08c2ca3d942b5e": {
          "model_module": "@jupyter-widgets/controls",
          "model_name": "IntProgressModel",
          "model_module_version": "1.5.0",
          "state": {
            "_dom_classes": [],
            "_model_module": "@jupyter-widgets/controls",
            "_model_module_version": "1.5.0",
            "_model_name": "IntProgressModel",
            "_view_count": null,
            "_view_module": "@jupyter-widgets/controls",
            "_view_module_version": "1.5.0",
            "_view_name": "ProgressView",
            "bar_style": "success",
            "description": "100.00%",
            "description_tooltip": null,
            "layout": "IPY_MODEL_a0ccc96d86e34cd0846c2bdb8a8cb5b2",
            "max": 35747,
            "min": 0,
            "orientation": "horizontal",
            "style": "IPY_MODEL_3c680e97d0cc4c5fbe8e06a9db4054d6",
            "value": 35747
          }
        },
        "58c784e60e2748348ff7a460799f9dbd": {
          "model_module": "@jupyter-widgets/controls",
          "model_name": "LabelModel",
          "model_module_version": "1.5.0",
          "state": {
            "_dom_classes": [],
            "_model_module": "@jupyter-widgets/controls",
            "_model_module_version": "1.5.0",
            "_model_name": "LabelModel",
            "_view_count": null,
            "_view_module": "@jupyter-widgets/controls",
            "_view_module_version": "1.5.0",
            "_view_name": "LabelView",
            "description": "",
            "description_tooltip": null,
            "layout": "IPY_MODEL_26355bd3806143f094d85b43c8466278",
            "placeholder": "​",
            "style": "IPY_MODEL_c0cf810326b74d33a73eea0bac7bbfbc",
            "value": "35747 / 35747"
          }
        },
        "96e2d99561dc4de08c1e69af450059ec": {
          "model_module": "@jupyter-widgets/base",
          "model_name": "LayoutModel",
          "model_module_version": "1.2.0",
          "state": {
            "_model_module": "@jupyter-widgets/base",
            "_model_module_version": "1.2.0",
            "_model_name": "LayoutModel",
            "_view_count": null,
            "_view_module": "@jupyter-widgets/base",
            "_view_module_version": "1.2.0",
            "_view_name": "LayoutView",
            "align_content": null,
            "align_items": null,
            "align_self": null,
            "border": null,
            "bottom": null,
            "display": null,
            "flex": null,
            "flex_flow": null,
            "grid_area": null,
            "grid_auto_columns": null,
            "grid_auto_flow": null,
            "grid_auto_rows": null,
            "grid_column": null,
            "grid_gap": null,
            "grid_row": null,
            "grid_template_areas": null,
            "grid_template_columns": null,
            "grid_template_rows": null,
            "height": null,
            "justify_content": null,
            "justify_items": null,
            "left": null,
            "margin": null,
            "max_height": null,
            "max_width": null,
            "min_height": null,
            "min_width": null,
            "object_fit": null,
            "object_position": null,
            "order": null,
            "overflow": null,
            "overflow_x": null,
            "overflow_y": null,
            "padding": null,
            "right": null,
            "top": null,
            "visibility": null,
            "width": null
          }
        },
        "a0ccc96d86e34cd0846c2bdb8a8cb5b2": {
          "model_module": "@jupyter-widgets/base",
          "model_name": "LayoutModel",
          "model_module_version": "1.2.0",
          "state": {
            "_model_module": "@jupyter-widgets/base",
            "_model_module_version": "1.2.0",
            "_model_name": "LayoutModel",
            "_view_count": null,
            "_view_module": "@jupyter-widgets/base",
            "_view_module_version": "1.2.0",
            "_view_name": "LayoutView",
            "align_content": null,
            "align_items": null,
            "align_self": null,
            "border": null,
            "bottom": null,
            "display": null,
            "flex": null,
            "flex_flow": null,
            "grid_area": null,
            "grid_auto_columns": null,
            "grid_auto_flow": null,
            "grid_auto_rows": null,
            "grid_column": null,
            "grid_gap": null,
            "grid_row": null,
            "grid_template_areas": null,
            "grid_template_columns": null,
            "grid_template_rows": null,
            "height": null,
            "justify_content": null,
            "justify_items": null,
            "left": null,
            "margin": null,
            "max_height": null,
            "max_width": null,
            "min_height": null,
            "min_width": null,
            "object_fit": null,
            "object_position": null,
            "order": null,
            "overflow": null,
            "overflow_x": null,
            "overflow_y": null,
            "padding": null,
            "right": null,
            "top": null,
            "visibility": null,
            "width": null
          }
        },
        "3c680e97d0cc4c5fbe8e06a9db4054d6": {
          "model_module": "@jupyter-widgets/controls",
          "model_name": "ProgressStyleModel",
          "model_module_version": "1.5.0",
          "state": {
            "_model_module": "@jupyter-widgets/controls",
            "_model_module_version": "1.5.0",
            "_model_name": "ProgressStyleModel",
            "_view_count": null,
            "_view_module": "@jupyter-widgets/base",
            "_view_module_version": "1.2.0",
            "_view_name": "StyleView",
            "bar_color": null,
            "description_width": ""
          }
        },
        "26355bd3806143f094d85b43c8466278": {
          "model_module": "@jupyter-widgets/base",
          "model_name": "LayoutModel",
          "model_module_version": "1.2.0",
          "state": {
            "_model_module": "@jupyter-widgets/base",
            "_model_module_version": "1.2.0",
            "_model_name": "LayoutModel",
            "_view_count": null,
            "_view_module": "@jupyter-widgets/base",
            "_view_module_version": "1.2.0",
            "_view_name": "LayoutView",
            "align_content": null,
            "align_items": null,
            "align_self": null,
            "border": null,
            "bottom": null,
            "display": null,
            "flex": null,
            "flex_flow": null,
            "grid_area": null,
            "grid_auto_columns": null,
            "grid_auto_flow": null,
            "grid_auto_rows": null,
            "grid_column": null,
            "grid_gap": null,
            "grid_row": null,
            "grid_template_areas": null,
            "grid_template_columns": null,
            "grid_template_rows": null,
            "height": null,
            "justify_content": null,
            "justify_items": null,
            "left": null,
            "margin": null,
            "max_height": null,
            "max_width": null,
            "min_height": null,
            "min_width": null,
            "object_fit": null,
            "object_position": null,
            "order": null,
            "overflow": null,
            "overflow_x": null,
            "overflow_y": null,
            "padding": null,
            "right": null,
            "top": null,
            "visibility": null,
            "width": null
          }
        },
        "c0cf810326b74d33a73eea0bac7bbfbc": {
          "model_module": "@jupyter-widgets/controls",
          "model_name": "DescriptionStyleModel",
          "model_module_version": "1.5.0",
          "state": {
            "_model_module": "@jupyter-widgets/controls",
            "_model_module_version": "1.5.0",
            "_model_name": "DescriptionStyleModel",
            "_view_count": null,
            "_view_module": "@jupyter-widgets/base",
            "_view_module_version": "1.2.0",
            "_view_name": "StyleView",
            "description_width": ""
          }
        }
      }
    }
  },
  "cells": [
    {
      "cell_type": "markdown",
      "metadata": {
        "id": "view-in-github",
        "colab_type": "text"
      },
      "source": [
        "<a href=\"https://colab.research.google.com/github/carlibeisel/irrigation_efficiency_change/blob/main/pivot_irrigation.ipynb\" target=\"_parent\"><img src=\"https://colab.research.google.com/assets/colab-badge.svg\" alt=\"Open In Colab\"/></a>"
      ]
    },
    {
      "cell_type": "markdown",
      "source": [
        "##Identifying Pivot Irrigated Land\n",
        "\n",
        "By: Carli Beisel\n",
        "\n",
        "Adapted from David Ketchum (Github: dgketchum)\n",
        "\n",
        "Created on May 13, 2024\n",
        "\n",
        "Modified on  May 17, 2024\n",
        "\n",
        "----------------------------------------------------\n",
        "**Purpose:**\n",
        "\n",
        "1) Finds pivot irrigated areas in irrigation shapefile. This code assumes that circles/arcs in the landscape represent pivot irrigation. This script finds arcs in polygon geometries of the shapefile, and writes a new attribute called \"pivot\". This Script is directly from David Ketchum.\n",
        "\n",
        "2) Sums area of pivot irrigation for each shapefile and combines into one dataframe. The created dataframe that has two columns: year and total acres of pivot irrigation.\n",
        "\n",
        "3) Generates a regression plot of irrigation change over time with the genderated dataframe."
      ],
      "metadata": {
        "id": "m2ANkc7oneHd"
      }
    },
    {
      "cell_type": "markdown",
      "source": [
        "## 1. Finds pivot irrigated areas in irrigation shapefile. This code assumes that circles/arcs in the landscape represent pivot irrigation. This script finds arcs in polygon geometries of the shapefile, and writes a new attribute called \"pivot\".\n",
        "\n",
        "This script is directly from David Ketchum.\n"
      ],
      "metadata": {
        "id": "mtsT8WwdTC09"
      }
    },
    {
      "cell_type": "code",
      "source": [
        "#import libraries\n",
        "import numpy as np\n",
        "import pandas as pd\n",
        "import geopandas as gpd\n",
        "! pip install pandarallel\n",
        "from pandarallel import pandarallel\n",
        "\n",
        "#connect to google drive\n",
        "from google.colab import drive\n",
        "drive.mount('/content/drive')"
      ],
      "metadata": {
        "colab": {
          "base_uri": "https://localhost:8080/"
        },
        "id": "hXCW2noTnoCR",
        "outputId": "42a85e0d-3eaa-4e0a-b05f-33fe8630fdf8"
      },
      "execution_count": 1,
      "outputs": [
        {
          "output_type": "stream",
          "name": "stdout",
          "text": [
            "Collecting pandarallel\n",
            "  Downloading pandarallel-1.6.5.tar.gz (14 kB)\n",
            "  Preparing metadata (setup.py) ... \u001b[?25l\u001b[?25hdone\n",
            "Collecting dill>=0.3.1 (from pandarallel)\n",
            "  Downloading dill-0.3.8-py3-none-any.whl (116 kB)\n",
            "\u001b[2K     \u001b[90m━━━━━━━━━━━━━━━━━━━━━━━━━━━━━━━━━━━━━━━━\u001b[0m \u001b[32m116.3/116.3 kB\u001b[0m \u001b[31m1.6 MB/s\u001b[0m eta \u001b[36m0:00:00\u001b[0m\n",
            "\u001b[?25hRequirement already satisfied: pandas>=1 in /usr/local/lib/python3.10/dist-packages (from pandarallel) (2.0.3)\n",
            "Requirement already satisfied: psutil in /usr/local/lib/python3.10/dist-packages (from pandarallel) (5.9.5)\n",
            "Requirement already satisfied: python-dateutil>=2.8.2 in /usr/local/lib/python3.10/dist-packages (from pandas>=1->pandarallel) (2.8.2)\n",
            "Requirement already satisfied: pytz>=2020.1 in /usr/local/lib/python3.10/dist-packages (from pandas>=1->pandarallel) (2023.4)\n",
            "Requirement already satisfied: tzdata>=2022.1 in /usr/local/lib/python3.10/dist-packages (from pandas>=1->pandarallel) (2024.1)\n",
            "Requirement already satisfied: numpy>=1.21.0 in /usr/local/lib/python3.10/dist-packages (from pandas>=1->pandarallel) (1.25.2)\n",
            "Requirement already satisfied: six>=1.5 in /usr/local/lib/python3.10/dist-packages (from python-dateutil>=2.8.2->pandas>=1->pandarallel) (1.16.0)\n",
            "Building wheels for collected packages: pandarallel\n",
            "  Building wheel for pandarallel (setup.py) ... \u001b[?25l\u001b[?25hdone\n",
            "  Created wheel for pandarallel: filename=pandarallel-1.6.5-py3-none-any.whl size=16673 sha256=246214dfb7dc0b1d7158e8e51efdc617580e84ab221902be7c20d48e7c416497\n",
            "  Stored in directory: /root/.cache/pip/wheels/50/4f/1e/34e057bb868842209f1623f195b74fd7eda229308a7352d47f\n",
            "Successfully built pandarallel\n",
            "Installing collected packages: dill, pandarallel\n",
            "Successfully installed dill-0.3.8 pandarallel-1.6.5\n",
            "Mounted at /content/drive\n"
          ]
        }
      ]
    },
    {
      "cell_type": "code",
      "source": [
        "min_arc = 10\n",
        "tol = 0.22"
      ],
      "metadata": {
        "id": "77r7hvcnnpy6"
      },
      "execution_count": 2,
      "outputs": []
    },
    {
      "cell_type": "code",
      "source": [
        "def area_flood_irrigation(shp):\n",
        "    df = gpd.read_file(shp)\n",
        "    p = df[df['IType'] == 'P']['geometry']\n",
        "    p = np.sum([g.area for g in p])\n",
        "    s = df[df['IType'] == 'S']['geometry']\n",
        "    s = np.sum([g.area for g in s])\n",
        "    f = df[df['IType'] == 'F']['geometry']\n",
        "    f = np.sum([g.area for g in f])\n",
        "    t = p + s + f\n",
        "    print('pivot: {:.3f} sqkm, {:.3f}'.format(p / 1e6, p / t))\n",
        "    print('sprinkler: {:.3f} sqkm, {:.3f}'.format(s / 1e6, s / t))\n",
        "    print('flood: {:.3f} sqkm, {:.3f}'.format(f / 1e6, f / t))"
      ],
      "metadata": {
        "id": "wVrPdjU3ntNw"
      },
      "execution_count": 3,
      "outputs": []
    },
    {
      "cell_type": "code",
      "source": [
        "# Calculates the bearing between two points given their coordinates.\n",
        "def bearing(a, b):\n",
        "    lat1 = np.radians(a[0])\n",
        "    lat2 = np.radians(b[0])\n",
        "\n",
        "    diffLong = np.radians(b[1] - a[1])\n",
        "\n",
        "    x = np.sin(diffLong) * np.cos(lat2)\n",
        "    y = np.cos(lat1) * np.sin(lat2) - (np.sin(lat1)\n",
        "                                       * np.cos(lat2) * np.cos(diffLong))\n",
        "\n",
        "    return np.arctan2(x, y)"
      ],
      "metadata": {
        "id": "5odDJX04n2fe"
      },
      "execution_count": 4,
      "outputs": []
    },
    {
      "cell_type": "code",
      "source": [
        "# Identify arcs within a geometry by checking the bearing between consecutive\n",
        "# vertices. If the bearing difference falls below a certain tolerance for a\n",
        "# specified number of consecutive vertices (min_arc), it returns True,\n",
        "# indicating the presence of an arc.\n",
        "\n",
        "def find_arcs(g):\n",
        "    verts = g.exterior.coords\n",
        "    arc_ct, b_prev = 0, np.pi\n",
        "    for i, v in enumerate(verts):\n",
        "        try:\n",
        "            next = verts[i + 1]\n",
        "        except IndexError:\n",
        "            break\n",
        "        b = bearing(v, next)\n",
        "        diff = b - b_prev\n",
        "        if diff < tol:\n",
        "            arc_ct += 1\n",
        "            if arc_ct >= min_arc:\n",
        "                return True\n",
        "        else:\n",
        "            arc_ct = 0\n",
        "        b_prev = b\n",
        "\n",
        "    return False"
      ],
      "metadata": {
        "id": "LKh2LLqMn4p8"
      },
      "execution_count": 5,
      "outputs": []
    },
    {
      "cell_type": "code",
      "source": [
        "# Identify arcs within geometries in a shapefile. It utilizes the find_arcs\n",
        "# function and parallel processing using the Pandarallel library.\n",
        "\n",
        "def pivot_test(in_shp, out_shp):\n",
        "    pandarallel.initialize(use_memory_fs=False, progress_bar=True)\n",
        "\n",
        "    df = gpd.read_file(in_shp).explode()\n",
        "    df.index = range(df.shape[0])\n",
        "    print('{} features'.format(df.shape[0]))\n",
        "    df['arc'] = df.geometry.apply(lambda g: find_arcs(g))\n",
        "    df['arc'] = df.geometry.parallel_apply(find_arcs)\n",
        "    df.to_file(out_shp, crs='epsg:4326')\n",
        "    print('{} of {} features have an arc'.format(np.count_nonzero(df['arc']), df.shape[0]))"
      ],
      "metadata": {
        "id": "Nkn-fI05n6Vc"
      },
      "execution_count": 6,
      "outputs": []
    },
    {
      "cell_type": "code",
      "source": [
        "if __name__ == '__main__':\n",
        "    in_shp = '/content/drive/MyDrive/Data/irrigation_shapefiles/irrigated_land_only/2010_irrigated.shp'\n",
        "    out_shp = '/content/drive/MyDrive/Data/irrigation_shapefiles/pivot/2010_arcs.shp'\n",
        "    pivot_test(in_shp, out_shp)"
      ],
      "metadata": {
        "id": "VX6x5SIbnboa",
        "colab": {
          "base_uri": "https://localhost:8080/",
          "height": 337,
          "referenced_widgets": [
            "8840f9cfb78f411abffcb25e02a76591",
            "406b0e499534415ab28cf073bd224068",
            "f4e6236211814edf9efa71cbeb5aa69a",
            "cf21c5bfd68e4fcf9b08c2ca3d942b5e",
            "58c784e60e2748348ff7a460799f9dbd",
            "96e2d99561dc4de08c1e69af450059ec",
            "a0ccc96d86e34cd0846c2bdb8a8cb5b2",
            "3c680e97d0cc4c5fbe8e06a9db4054d6",
            "26355bd3806143f094d85b43c8466278",
            "c0cf810326b74d33a73eea0bac7bbfbc"
          ]
        },
        "outputId": "64504dbc-2e35-43b0-8245-bcffee5d84e4"
      },
      "execution_count": 7,
      "outputs": [
        {
          "output_type": "stream",
          "name": "stdout",
          "text": [
            "INFO: Pandarallel will run on 1 workers.\n",
            "INFO: Pandarallel will use standard multiprocessing data transfer (pipe) to transfer data between the main process and workers.\n"
          ]
        },
        {
          "output_type": "stream",
          "name": "stderr",
          "text": [
            "WARNING:fiona._env:organizePolygons() received an unexpected geometry.  Either a polygon with interior rings, or a polygon with less than 4 points, or a non-Polygon geometry.  Return arguments as a collection.\n",
            "WARNING:fiona._env:Geometry of polygon of fid 5541 cannot be translated to Simple Geometry. All polygons will be contained in a multipolygon.\n",
            "WARNING:fiona._env:organizePolygons() received an unexpected geometry.  Either a polygon with interior rings, or a polygon with less than 4 points, or a non-Polygon geometry.  Return arguments as a collection.\n",
            "WARNING:fiona._env:organizePolygons() received an unexpected geometry.  Either a polygon with interior rings, or a polygon with less than 4 points, or a non-Polygon geometry.  Return arguments as a collection.\n",
            "WARNING:fiona._env:Geometry of polygon of fid 5549 cannot be translated to Simple Geometry. All polygons will be contained in a multipolygon.\n",
            "WARNING:fiona._env:organizePolygons() received an unexpected geometry.  Either a polygon with interior rings, or a polygon with less than 4 points, or a non-Polygon geometry.  Return arguments as a collection.\n",
            "WARNING:fiona._env:organizePolygons() received an unexpected geometry.  Either a polygon with interior rings, or a polygon with less than 4 points, or a non-Polygon geometry.  Return arguments as a collection.\n",
            "WARNING:fiona._env:organizePolygons() received an unexpected geometry.  Either a polygon with interior rings, or a polygon with less than 4 points, or a non-Polygon geometry.  Return arguments as a collection.\n",
            "WARNING:fiona._env:organizePolygons() received an unexpected geometry.  Either a polygon with interior rings, or a polygon with less than 4 points, or a non-Polygon geometry.  Return arguments as a collection.\n",
            "<ipython-input-6-32712a6128df>:7: FutureWarning: Currently, index_parts defaults to True, but in the future, it will default to False to be consistent with Pandas. Use `index_parts=True` to keep the current behavior and True/False to silence the warning.\n",
            "  df = gpd.read_file(in_shp).explode()\n"
          ]
        },
        {
          "output_type": "stream",
          "name": "stdout",
          "text": [
            "35747 features\n"
          ]
        },
        {
          "output_type": "display_data",
          "data": {
            "text/plain": [
              "VBox(children=(HBox(children=(IntProgress(value=0, description='0.00%', max=35747), Label(value='0 / 35747')))…"
            ],
            "application/vnd.jupyter.widget-view+json": {
              "version_major": 2,
              "version_minor": 0,
              "model_id": "8840f9cfb78f411abffcb25e02a76591"
            }
          },
          "metadata": {}
        },
        {
          "output_type": "stream",
          "name": "stdout",
          "text": [
            "3896 of 35747 features have an arc\n"
          ]
        }
      ]
    },
    {
      "cell_type": "code",
      "source": [
        "import geopandas as gpd\n",
        "\n",
        "# Replace 'your_shapefile.shp' with the path to your shapefile\n",
        "shapefile_path = '/content/drive/MyDrive/Data/irrigation_shapefiles/pivot/2010_arcs.shp'\n",
        "\n",
        "# Load the shapefile\n",
        "gdf = gpd.read_file(shapefile_path)\n",
        "\n",
        "# Display the attribute names (column names)\n",
        "attribute_names = gdf.columns\n",
        "print(\"Attribute names in the shapefile:\")\n",
        "for attribute in attribute_names:\n",
        "    print(attribute)"
      ],
      "metadata": {
        "colab": {
          "base_uri": "https://localhost:8080/"
        },
        "id": "xpNbIGytf5aT",
        "outputId": "7bb7f1b2-17fd-4ab4-ae88-1099b885b193"
      },
      "execution_count": 9,
      "outputs": [
        {
          "output_type": "stream",
          "name": "stdout",
          "text": [
            "Attribute names in the shapefile:\n",
            "OBJECTID\n",
            "Acres\n",
            "Status_201\n",
            "Shape_Leng\n",
            "Shape_Area\n",
            "arc\n",
            "geometry\n"
          ]
        }
      ]
    },
    {
      "cell_type": "markdown",
      "source": [
        "## 2. Sums area of pivot irrigated land and total irrigated land for each shapefile and combines into one dataframe. The created dataframe that has three columns: 1) year, 2) total pivot irrigated acres, and 3) total acres irrigated."
      ],
      "metadata": {
        "id": "o7qYXg4yNzLn"
      }
    },
    {
      "cell_type": "code",
      "source": [
        "#import libraries\n",
        "!pip install geopandas shapely\n",
        "import geopandas as gpd\n",
        "import glob\n",
        "import pandas as pd\n",
        "import re\n",
        "from shapely.geometry import MultiPolygon #for shapefiles with holes or difficult shapes\n",
        "\n",
        "#connect to google drive\n",
        "from google.colab import drive\n",
        "drive.mount('/content/drive')"
      ],
      "metadata": {
        "colab": {
          "base_uri": "https://localhost:8080/"
        },
        "id": "VZuzPsgZQwIb",
        "outputId": "66d99da2-de25-48d2-bfea-ff495f3243bc"
      },
      "execution_count": 13,
      "outputs": [
        {
          "output_type": "stream",
          "name": "stdout",
          "text": [
            "Requirement already satisfied: geopandas in /usr/local/lib/python3.10/dist-packages (0.13.2)\n",
            "Requirement already satisfied: shapely in /usr/local/lib/python3.10/dist-packages (2.0.4)\n",
            "Requirement already satisfied: fiona>=1.8.19 in /usr/local/lib/python3.10/dist-packages (from geopandas) (1.9.6)\n",
            "Requirement already satisfied: packaging in /usr/local/lib/python3.10/dist-packages (from geopandas) (24.1)\n",
            "Requirement already satisfied: pandas>=1.1.0 in /usr/local/lib/python3.10/dist-packages (from geopandas) (2.0.3)\n",
            "Requirement already satisfied: pyproj>=3.0.1 in /usr/local/lib/python3.10/dist-packages (from geopandas) (3.6.1)\n",
            "Requirement already satisfied: numpy<3,>=1.14 in /usr/local/lib/python3.10/dist-packages (from shapely) (1.25.2)\n",
            "Requirement already satisfied: attrs>=19.2.0 in /usr/local/lib/python3.10/dist-packages (from fiona>=1.8.19->geopandas) (23.2.0)\n",
            "Requirement already satisfied: certifi in /usr/local/lib/python3.10/dist-packages (from fiona>=1.8.19->geopandas) (2024.6.2)\n",
            "Requirement already satisfied: click~=8.0 in /usr/local/lib/python3.10/dist-packages (from fiona>=1.8.19->geopandas) (8.1.7)\n",
            "Requirement already satisfied: click-plugins>=1.0 in /usr/local/lib/python3.10/dist-packages (from fiona>=1.8.19->geopandas) (1.1.1)\n",
            "Requirement already satisfied: cligj>=0.5 in /usr/local/lib/python3.10/dist-packages (from fiona>=1.8.19->geopandas) (0.7.2)\n",
            "Requirement already satisfied: six in /usr/local/lib/python3.10/dist-packages (from fiona>=1.8.19->geopandas) (1.16.0)\n",
            "Requirement already satisfied: python-dateutil>=2.8.2 in /usr/local/lib/python3.10/dist-packages (from pandas>=1.1.0->geopandas) (2.8.2)\n",
            "Requirement already satisfied: pytz>=2020.1 in /usr/local/lib/python3.10/dist-packages (from pandas>=1.1.0->geopandas) (2023.4)\n",
            "Requirement already satisfied: tzdata>=2022.1 in /usr/local/lib/python3.10/dist-packages (from pandas>=1.1.0->geopandas) (2024.1)\n",
            "Drive already mounted at /content/drive; to attempt to forcibly remount, call drive.mount(\"/content/drive\", force_remount=True).\n"
          ]
        }
      ]
    },
    {
      "cell_type": "code",
      "source": [
        "# Load the total irrigated land shapefiles\n",
        "irrigated_fields = '/content/drive/MyDrive/Data/irrigation_shapefiles/irrigated_land_only/*.shp'\n",
        "shapefiles = glob.glob(irrigated_fields)\n",
        "\n",
        "# Define a function to extract the year from the filename\n",
        "def extract_year(filename):\n",
        "    match = re.search(r'(\\d{4})', filename)\n",
        "    return int(match.group(1)) if match else None\n",
        "\n",
        "# Iterate over each shapefile and read the \"Acres\" column\n",
        "irrigated_acres = []\n",
        "for shp in shapefiles:\n",
        "    year = extract_year(shp)\n",
        "    if year is None:\n",
        "        continue\n",
        "\n",
        "    gdf = gpd.read_file(shp)\n",
        "    total_area_acres = gdf['Acres'].sum()\n",
        "    irrigated_acres.append({'Year': year, 'Total Irrigated Acres': total_area_acres})\n",
        "\n",
        "# Create and sort the DataFrame by Year\n",
        "all = pd.DataFrame(irrigated_acres).sort_values(by='Year').reset_index(drop=True)\n",
        "\n",
        "print(all)"
      ],
      "metadata": {
        "colab": {
          "base_uri": "https://localhost:8080/"
        },
        "id": "BjZQ_kR7mmST",
        "outputId": "54745850-9d67-450c-a23e-f3c361a2e3f0"
      },
      "execution_count": 16,
      "outputs": [
        {
          "output_type": "stream",
          "name": "stderr",
          "text": [
            "WARNING:fiona._env:organizePolygons() received an unexpected geometry.  Either a polygon with interior rings, or a polygon with less than 4 points, or a non-Polygon geometry.  Return arguments as a collection.\n",
            "WARNING:fiona._env:Geometry of polygon of fid 5541 cannot be translated to Simple Geometry. All polygons will be contained in a multipolygon.\n",
            "WARNING:fiona._env:organizePolygons() received an unexpected geometry.  Either a polygon with interior rings, or a polygon with less than 4 points, or a non-Polygon geometry.  Return arguments as a collection.\n",
            "WARNING:fiona._env:organizePolygons() received an unexpected geometry.  Either a polygon with interior rings, or a polygon with less than 4 points, or a non-Polygon geometry.  Return arguments as a collection.\n",
            "WARNING:fiona._env:Geometry of polygon of fid 5549 cannot be translated to Simple Geometry. All polygons will be contained in a multipolygon.\n",
            "WARNING:fiona._env:organizePolygons() received an unexpected geometry.  Either a polygon with interior rings, or a polygon with less than 4 points, or a non-Polygon geometry.  Return arguments as a collection.\n",
            "WARNING:fiona._env:organizePolygons() received an unexpected geometry.  Either a polygon with interior rings, or a polygon with less than 4 points, or a non-Polygon geometry.  Return arguments as a collection.\n",
            "WARNING:fiona._env:organizePolygons() received an unexpected geometry.  Either a polygon with interior rings, or a polygon with less than 4 points, or a non-Polygon geometry.  Return arguments as a collection.\n",
            "WARNING:fiona._env:organizePolygons() received an unexpected geometry.  Either a polygon with interior rings, or a polygon with less than 4 points, or a non-Polygon geometry.  Return arguments as a collection.\n",
            "WARNING:fiona._env:organizePolygons() received an unexpected geometry.  Either a polygon with interior rings, or a polygon with less than 4 points, or a non-Polygon geometry.  Return arguments as a collection.\n",
            "WARNING:fiona._env:Geometry of polygon of fid 5674 cannot be translated to Simple Geometry. All polygons will be contained in a multipolygon.\n",
            "WARNING:fiona._env:organizePolygons() received an unexpected geometry.  Either a polygon with interior rings, or a polygon with less than 4 points, or a non-Polygon geometry.  Return arguments as a collection.\n",
            "WARNING:fiona._env:organizePolygons() received an unexpected geometry.  Either a polygon with interior rings, or a polygon with less than 4 points, or a non-Polygon geometry.  Return arguments as a collection.\n",
            "WARNING:fiona._env:Geometry of polygon of fid 5682 cannot be translated to Simple Geometry. All polygons will be contained in a multipolygon.\n",
            "WARNING:fiona._env:organizePolygons() received an unexpected geometry.  Either a polygon with interior rings, or a polygon with less than 4 points, or a non-Polygon geometry.  Return arguments as a collection.\n",
            "WARNING:fiona._env:organizePolygons() received an unexpected geometry.  Either a polygon with interior rings, or a polygon with less than 4 points, or a non-Polygon geometry.  Return arguments as a collection.\n",
            "WARNING:fiona._env:organizePolygons() received an unexpected geometry.  Either a polygon with interior rings, or a polygon with less than 4 points, or a non-Polygon geometry.  Return arguments as a collection.\n",
            "WARNING:fiona._env:organizePolygons() received an unexpected geometry.  Either a polygon with interior rings, or a polygon with less than 4 points, or a non-Polygon geometry.  Return arguments as a collection.\n",
            "WARNING:fiona._env:organizePolygons() received an unexpected geometry.  Either a polygon with interior rings, or a polygon with less than 4 points, or a non-Polygon geometry.  Return arguments as a collection.\n",
            "WARNING:fiona._env:Geometry of polygon of fid 8248 cannot be translated to Simple Geometry. All polygons will be contained in a multipolygon.\n",
            "WARNING:fiona._env:organizePolygons() received an unexpected geometry.  Either a polygon with interior rings, or a polygon with less than 4 points, or a non-Polygon geometry.  Return arguments as a collection.\n"
          ]
        },
        {
          "output_type": "stream",
          "name": "stdout",
          "text": [
            "   Year  Total Irrigated Acres\n",
            "0  1987          540858.321895\n",
            "1  1994          522431.344118\n",
            "2  2000          543269.737946\n",
            "3  2004          529101.803133\n",
            "4  2007          529273.357644\n",
            "5  2010          527579.091135\n",
            "6  2015          547752.179370\n"
          ]
        }
      ]
    },
    {
      "cell_type": "code",
      "source": [
        "# Load the pivot irrigation shapefiles\n",
        "pivot_files = '/content/drive/MyDrive/Data/irrigation_shapefiles/pivot/*.shp'\n",
        "shapefiles = glob.glob(pivot_files)\n",
        "\n",
        "# Define a function to extract the year from the filename\n",
        "def extract_year(filename):\n",
        "    match = re.search(r'(\\d{4})', filename)\n",
        "    return int(match.group(1)) if match else None\n",
        "\n",
        "# Iterate over each shapefile and read the \"Acres\" column where \"arc\" > 0\n",
        "pivot_acres = []\n",
        "for shp in shapefiles:\n",
        "    year = extract_year(shp)\n",
        "    if year is None:\n",
        "        continue\n",
        "\n",
        "    gdf = gpd.read_file(shp)\n",
        "    # Filter rows where 'arc' column has values greater than 0\n",
        "    filtered_gdf = gdf[gdf['arc'] > 0]\n",
        "    # Sum the 'Acres' column for the filtered rows\n",
        "    total_area_acres = filtered_gdf['Acres'].sum()\n",
        "    pivot_acres.append({'Year': year, 'Pivot Acres': total_area_acres})\n",
        "\n",
        "# Create and sort the DataFrame by Year\n",
        "pivot = pd.DataFrame(pivot_acres).sort_values(by='Year').reset_index(drop=True)\n",
        "\n",
        "print(pivot)"
      ],
      "metadata": {
        "colab": {
          "base_uri": "https://localhost:8080/"
        },
        "id": "raLv5F0Rg-Tv",
        "outputId": "95ab0a74-e8d7-4bd6-dd42-8fae566a72ef"
      },
      "execution_count": 15,
      "outputs": [
        {
          "output_type": "stream",
          "name": "stdout",
          "text": [
            "   Year    Pivot Acres\n",
            "0  1987   20963.597703\n",
            "1  1994   89037.224057\n",
            "2  2000   53772.965430\n",
            "3  2004   72878.061439\n",
            "4  2007   79992.204613\n",
            "5  2010  117115.605654\n",
            "6  2015  117012.499447\n"
          ]
        }
      ]
    },
    {
      "cell_type": "code",
      "source": [
        "#merge pivot and all irrigation style dataframes\n",
        "merged_data = pd.merge(all, pivot, on='Year', how='inner')\n",
        "print(merged_data)\n",
        "merged_data.to_csv('/content/drive/MyDrive/Data/irrigation_shapefiles/irrigation_change.csv', index=False)"
      ],
      "metadata": {
        "colab": {
          "base_uri": "https://localhost:8080/"
        },
        "id": "e9SjXVvY6BIj",
        "outputId": "4141d737-c51c-412f-eacf-dfc3c81d2da7"
      },
      "execution_count": 17,
      "outputs": [
        {
          "output_type": "stream",
          "name": "stdout",
          "text": [
            "   Year  Total Irrigated Acres    Pivot Acres\n",
            "0  1987          540858.321895   20963.597703\n",
            "1  1994          522431.344118   89037.224057\n",
            "2  2000          543269.737946   53772.965430\n",
            "3  2004          529101.803133   72878.061439\n",
            "4  2007          529273.357644   79992.204613\n",
            "5  2010          527579.091135  117115.605654\n",
            "6  2015          547752.179370  117012.499447\n"
          ]
        }
      ]
    },
    {
      "cell_type": "markdown",
      "source": [
        "## 3. Generates a regression plot of irrigation change over time with the genderated dataframe."
      ],
      "metadata": {
        "id": "Pip5dMjETdwE"
      }
    },
    {
      "cell_type": "code",
      "source": [
        "import seaborn as sns\n",
        "import pandas as pd\n",
        "import matplotlib.pyplot as plt\n",
        "from sklearn.linear_model import LinearRegression\n",
        "\n",
        "#connect to google drive\n",
        "from google.colab import drive\n",
        "drive.mount('/content/drive')"
      ],
      "metadata": {
        "id": "rH5siYFMTdS_",
        "colab": {
          "base_uri": "https://localhost:8080/"
        },
        "outputId": "5d292a75-9cd0-4f5e-8e52-e1200b223138"
      },
      "execution_count": 18,
      "outputs": [
        {
          "output_type": "stream",
          "name": "stdout",
          "text": [
            "Drive already mounted at /content/drive; to attempt to forcibly remount, call drive.mount(\"/content/drive\", force_remount=True).\n"
          ]
        }
      ]
    },
    {
      "cell_type": "code",
      "source": [
        "df = pd.read_csv('/content/drive/MyDrive/Data/irrigation_shapefiles/irrigation_change.csv')"
      ],
      "metadata": {
        "id": "qejUkPh0tdH6"
      },
      "execution_count": 19,
      "outputs": []
    },
    {
      "cell_type": "code",
      "source": [
        "# Calculate proportion of pivot irrigated acres divided by total irrigated acres\n",
        "df['Proportion_Pivot'] = df['Pivot Acres'] / df['Total Irrigated Acres'] #old version\n",
        "print(df)"
      ],
      "metadata": {
        "colab": {
          "base_uri": "https://localhost:8080/"
        },
        "id": "8uCOXqop7885",
        "outputId": "5cf16f9d-9b4a-4e7a-d515-1fa41e1f28ee"
      },
      "execution_count": 21,
      "outputs": [
        {
          "output_type": "stream",
          "name": "stdout",
          "text": [
            "   Year  Total Irrigated Acres    Pivot Acres  Proportion_Pivot\n",
            "0  1987          540858.321895   20963.597703          0.038760\n",
            "1  1994          522431.344118   89037.224057          0.170429\n",
            "2  2000          543269.737946   53772.965430          0.098980\n",
            "3  2004          529101.803133   72878.061439          0.137739\n",
            "4  2007          529273.357644   79992.204613          0.151136\n",
            "5  2010          527579.091135  117115.605654          0.221987\n",
            "6  2015          547752.179370  117012.499447          0.213623\n"
          ]
        }
      ]
    },
    {
      "cell_type": "code",
      "source": [
        "# Initialize and fit the linear regression model\n",
        "model = LinearRegression()\n",
        "X = df[['Year']]\n",
        "y = df['Proportion_Pivot']\n",
        "model.fit(X, y)\n",
        "\n",
        "# Predict values using the fitted model\n",
        "df['Predicted_Acres'] = model.predict(X)\n",
        "\n",
        "# Calculate the R² value\n",
        "r_squared = model.score(X, y)\n",
        "\n",
        "# Plot scatter plot and regression line\n",
        "plt.figure(figsize=(10, 6))\n",
        "sns.scatterplot(data=df, x='Year', y='Proportion_Pivot', marker='o', label='Actual Data')\n",
        "plt.plot(df['Year'], df['Predicted_Acres'], color='red', label='Regression Line')\n",
        "\n",
        "# Customize the plot\n",
        "plt.title('Total Area Pivot Irrigated each Year')\n",
        "plt.xlabel('Year')\n",
        "plt.ylabel('Area Pivot Irrigated (acres)')\n",
        "plt.grid(True)\n",
        "plt.legend()\n",
        "\n",
        "# Annotate the R² value on the plot\n",
        "plt.text(\n",
        "    0.05, 0.85, f'R²: {r_squared:.2f}',\n",
        "    transform=plt.gca().transAxes, fontsize=12, verticalalignment='top'\n",
        ")\n",
        "\n",
        "# Show the plot\n",
        "plt.savefig('/content/drive/MyDrive/Carli Thesis/Figures/pivot_regression.tiff', format='tiff', dpi=300)\n",
        "plt.show()"
      ],
      "metadata": {
        "colab": {
          "base_uri": "https://localhost:8080/",
          "height": 489
        },
        "id": "no-K64IzaUhR",
        "outputId": "d0ee3ad2-c4ca-4363-b089-afb36679d465"
      },
      "execution_count": 24,
      "outputs": [
        {
          "output_type": "display_data",
          "data": {
            "text/plain": [
              "<Figure size 1000x600 with 1 Axes>"
            ],
            "image/png": "[encoded data removed]"
          },
          "metadata": {}
        }
      ]
    },
    {
      "cell_type": "code",
      "source": [
        "# Line graph with pivot proportion\n",
        "plt.figure(figsize=(10, 6))\n",
        "sns.scatterplot(data=df, x='Year', y='Proportion_Pivot', marker='o', label='Actual Data')\n",
        "plt.plot(df['Year'], df['Proportion_Pivot'], color='red', label='Regression Line')\n",
        "\n",
        "#Customize the legend\n",
        "plt.title('Proportion of Land Irrigated with Pivot')\n",
        "plt.xlabel('Year')\n",
        "plt.ylabel('Proportion of Land Irrigated with Pivot')\n",
        "plt.grid(True)\n",
        "plt.legend()\n",
        "\n",
        "plt.savefig('/content/drive/MyDrive/Carli Thesis/Figures/pivot_scatter.tiff', format='tiff', dpi=300)"
      ],
      "metadata": {
        "colab": {
          "base_uri": "https://localhost:8080/",
          "height": 489
        },
        "id": "to0Ryylka8qa",
        "outputId": "90b4f762-c8da-4b9d-c25f-ed5ef4243f15"
      },
      "execution_count": 26,
      "outputs": [
        {
          "output_type": "display_data",
          "data": {
            "text/plain": [
              "<Figure size 1000x600 with 1 Axes>"
            ],
            "image/png": "[encoded data removed]"
          },
          "metadata": {}
        }
      ]
    }
  ]
}